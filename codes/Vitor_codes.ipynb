{
 "cells": [
  {
   "cell_type": "markdown",
   "metadata": {},
   "source": [
    "# Biffurcation diagram\n",
    "\n",
    "## Plots the stable and unstable points of a dynamical 1D system."
   ]
  },
  {
   "cell_type": "code",
   "execution_count": 18,
   "metadata": {},
   "outputs": [],
   "source": [
    "import numpy as np\n",
    "import matplotlib.pyplot as plt\n",
    "import scipy.integrate as spi"
   ]
  },
  {
   "cell_type": "markdown",
   "metadata": {},
   "source": [
    "## Defining initial conditions"
   ]
  },
  {
   "cell_type": "code",
   "execution_count": 19,
   "metadata": {},
   "outputs": [],
   "source": [
    "x0 = [-2.0, -0.5, -0.05, 0.05, 0.5, 2.0]"
   ]
  },
  {
   "cell_type": "markdown",
   "metadata": {},
   "source": [
    "## Defining parameter interval"
   ]
  },
  {
   "cell_type": "code",
   "execution_count": 20,
   "metadata": {},
   "outputs": [],
   "source": [
    "RMIN = -1.0\n",
    "RMAX = 1.0\n",
    "r = np.arange(RMIN, RMAX, .05)"
   ]
  },
  {
   "cell_type": "markdown",
   "metadata": {},
   "source": [
    "## Defining the dynamical system"
   ]
  },
  {
   "cell_type": "code",
   "execution_count": 27,
   "metadata": {},
   "outputs": [],
   "source": [
    "def func(x, t, r, reverse=False):\n",
    "    if reverse:\n",
    "        return -1.0*func(x,-t, r, False)\n",
    "\n",
    "    #f =  r*x                      ##### exponetial growth rate - Saddle-Node Bifurcation\n",
    "    #f =  r - x*x                 ##### Quadratic Equation - Saddle-Node Bifurcation\n",
    "    #f =  (r+1) - x - np.exp(-x)  ##### Non-polyn. Equation - Saddle-Node Bifurcation\n",
    "    #f =  x*(r-x)                 ##### Logistic Equation - Transcritical Bifurcation\n",
    "    f =  x*(r-x)- 2*x                 ##### Logistic Harvest Equation - Transcritical Bifurcation\n",
    "    #f =  r*np.log(x)+x-1         ##### Non-polyn. Equation - Transcritical Bifurcation\n",
    "    #f =  x*x/(1+x)-r*x/(1+x*x)   ##### Non-polyn. Equation - Transcritical Bifurcation\n",
    "    #f =  x*(r+x*x)               ##### Polyn. Equation - Pitchfork Bifurcation\n",
    "    #f =  x - np.arctan((1+r)*x)  ##### Non-polyn. Equation - Pitchfork Bifurcation\n",
    "    #f =  (1+r)*x*np.exp(-x*x) - x  ##### Non-polyn. Equation - Pitchfork Bifurcation\n",
    "    #f =  (1+r)*x - np.sin(x)  #####  Non-polyn. Equation - Pitchfork Bifurcation\n",
    "    #f =  x*(r + x*x*(1 - x*x))  ##### Polyn. Equation - Pitchfork Bif. w/ histeresis\n",
    "    #f =  np.sin(x) - np.arctan((1+r)*x)  ##### Non-polyn. Equation - Pitchfork Bif. w/ histeresis\n",
    "    f = 1 - 1/x - 6/np.sqrt(1+x*x) ### bead on a tilted wire\n",
    "\n",
    "    return f"
   ]
  },
  {
   "cell_type": "markdown",
   "metadata": {},
   "source": [
    "## Gets parameters"
   ]
  },
  {
   "cell_type": "code",
   "execution_count": 28,
   "metadata": {},
   "outputs": [
    {
     "name": "stderr",
     "output_type": "stream",
     "text": [
      "/home/dell/.local/lib/python3.6/site-packages/scipy/integrate/odepack.py:247: ODEintWarning: Excess work done on this call (perhaps wrong Dfun type). Run with full_output = 1 to get quantitative information.\n",
      "  warnings.warn(warning_msg, ODEintWarning)\n"
     ]
    }
   ],
   "source": [
    "stable = []\n",
    "unstable = []\n",
    "\n",
    "for x0i in x0:\n",
    "    for ri in r:\n",
    "        [x00, xn, xl] = spi.odeint(func, x0i, [0, 1000.0, 2000.0] , args=(ri,False))\n",
    "        if abs(xn-xl) < 1e-4:\n",
    "            stable.append(xn)\n",
    "        else:\n",
    "            stable.append(float('nan'))\n",
    "    for ri in r:\n",
    "        [x00, xn, xl] = spi.odeint(func, x0i, [0, 1000.0, 2000.0] , args=(ri,True))\n",
    "        if abs(xn-xl) < 1e-4:\n",
    "            unstable.append(xn)\n",
    "        else:\n",
    "            unstable.append(float('nan'))"
   ]
  },
  {
   "cell_type": "markdown",
   "metadata": {},
   "source": [
    "## Plotting:"
   ]
  },
  {
   "cell_type": "code",
   "execution_count": 29,
   "metadata": {},
   "outputs": [
    {
     "name": "stderr",
     "output_type": "stream",
     "text": [
      "No handles with labels found to put in legend.\n"
     ]
    },
    {
     "data": {
      "image/png": "[encoded data removed]",
      "text/plain": [
       "<Figure size 576x396 with 1 Axes>"
      ]
     },
     "metadata": {},
     "output_type": "display_data"
    },
    {
     "data": {
      "image/png": "[encoded data removed]",
      "text/plain": [
       "<Figure size 576x396 with 1 Axes>"
      ]
     },
     "metadata": {},
     "output_type": "display_data"
    }
   ],
   "source": [
    "plt.style.use('seaborn')\n",
    "# if True, it also plots the phase portrait\n",
    "if True:\n",
    "\tplt.figure()\n",
    "\txx =  np.arange(-3.1, 3.1, .05) \n",
    "\tplt.plot(xx, 0*xx, 'k-' , lw=1.5)\n",
    "\tplt.get_cmap('plasma')\n",
    "\tfor ri in r[1:-1:int(len(r)/6)]:\n",
    "\t\tplt.plot(xx, func(xx, 0, ri), '--' ,lw=1.0)\n",
    "\tplt.xlabel(\"x\")\n",
    "\tplt.ylabel(\"dx/dt\")\n",
    "\tplt.title(\"Espaço de fase\")\n",
    "\n",
    "plt.figure()\n",
    "ax = plt.subplot(111)\n",
    "plt.xlim(RMIN, RMAX)\n",
    "ax.legend(loc='upper center', bbox_to_anchor=(0.5, -0.15), fancybox=True, shadow=True, ncol=5)\n",
    "plt.plot(np.tile(r, len(x0)) , unstable, 'r.', label='Instável', markersize=5)\n",
    "plt.plot(np.tile(r, len(x0)) , stable,   'b.' ,label='Estável' , markersize=5)\n",
    "plt.xlabel(\"Valor do Parâmetro (r)\")\n",
    "plt.ylabel(\"Ponto(s) de Equilíbrio\")\n",
    "plt.title(\"Diagrama de bifurcação\")\n",
    "\n",
    "plt.show()"
   ]
  }
 ],
 "metadata": {
  "kernelspec": {
   "display_name": "Python 3",
   "language": "python",
   "name": "python3"
  },
  "language_info": {
   "codemirror_mode": {
    "name": "ipython",
    "version": 3
   },
   "file_extension": ".py",
   "mimetype": "text/x-python",
   "name": "python",
   "nbconvert_exporter": "python",
   "pygments_lexer": "ipython3",
   "version": "3.6.9"
  }
 },
 "nbformat": 4,
 "nbformat_minor": 2
}
